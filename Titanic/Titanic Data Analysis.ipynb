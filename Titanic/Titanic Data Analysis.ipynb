{
 "cells": [
  {
   "cell_type": "code",
   "execution_count": 29,
   "metadata": {
    "collapsed": true
   },
   "outputs": [],
   "source": [
    "import numpy as np\n",
    "import pandas as pd\n",
    "from pandas import Series,DataFrame\n",
    "import matplotlib.pyplot as plt\n",
    "import seaborn as sns\n",
    "plt.style.use('fivethirtyeight')\n",
    "%matplotlib inline\n",
    "\n",
    "alpha_color = 0.5"
   ]
  },
  {
   "cell_type": "code",
   "execution_count": 30,
   "metadata": {
    "collapsed": true
   },
   "outputs": [],
   "source": [
    "data = pd.read_csv(\"./train.csv\")"
   ]
  },
  {
   "cell_type": "code",
   "execution_count": 31,
   "metadata": {
    "collapsed": false
   },
   "outputs": [
    {
     "data": {
      "text/plain": [
       "(891, 12)"
      ]
     },
     "execution_count": 31,
     "metadata": {},
     "output_type": "execute_result"
    }
   ],
   "source": [
    "\n",
    "data.shape"
   ]
  },
  {
   "cell_type": "code",
   "execution_count": 32,
   "metadata": {
    "collapsed": false
   },
   "outputs": [
    {
     "name": "stdout",
     "output_type": "stream",
     "text": [
      "<class 'pandas.core.frame.DataFrame'>\n",
      "RangeIndex: 891 entries, 0 to 890\n",
      "Data columns (total 12 columns):\n",
      "PassengerId    891 non-null int64\n",
      "Survived       891 non-null int64\n",
      "Pclass         891 non-null int64\n",
      "Name           891 non-null object\n",
      "Sex            891 non-null object\n",
      "Age            714 non-null float64\n",
      "SibSp          891 non-null int64\n",
      "Parch          891 non-null int64\n",
      "Ticket         891 non-null object\n",
      "Fare           891 non-null float64\n",
      "Cabin          204 non-null object\n",
      "Embarked       889 non-null object\n",
      "dtypes: float64(2), int64(5), object(5)\n",
      "memory usage: 83.6+ KB\n"
     ]
    }
   ],
   "source": [
    "data.info()"
   ]
  },
  {
   "cell_type": "code",
   "execution_count": 33,
   "metadata": {
    "collapsed": false
   },
   "outputs": [
    {
     "data": {
      "text/html": [
       "<div>\n",
       "<style scoped>\n",
       "    .dataframe tbody tr th:only-of-type {\n",
       "        vertical-align: middle;\n",
       "    }\n",
       "\n",
       "    .dataframe tbody tr th {\n",
       "        vertical-align: top;\n",
       "    }\n",
       "\n",
       "    .dataframe thead th {\n",
       "        text-align: right;\n",
       "    }\n",
       "</style>\n",
       "<table border=\"1\" class=\"dataframe\">\n",
       "  <thead>\n",
       "    <tr style=\"text-align: right;\">\n",
       "      <th></th>\n",
       "      <th>PassengerId</th>\n",
       "      <th>Survived</th>\n",
       "      <th>Pclass</th>\n",
       "      <th>Name</th>\n",
       "      <th>Sex</th>\n",
       "      <th>Age</th>\n",
       "      <th>SibSp</th>\n",
       "      <th>Parch</th>\n",
       "      <th>Ticket</th>\n",
       "      <th>Fare</th>\n",
       "      <th>Cabin</th>\n",
       "      <th>Embarked</th>\n",
       "    </tr>\n",
       "  </thead>\n",
       "  <tbody>\n",
       "    <tr>\n",
       "      <th>0</th>\n",
       "      <td>1</td>\n",
       "      <td>0</td>\n",
       "      <td>3</td>\n",
       "      <td>Braund, Mr. Owen Harris</td>\n",
       "      <td>male</td>\n",
       "      <td>22.0</td>\n",
       "      <td>1</td>\n",
       "      <td>0</td>\n",
       "      <td>A/5 21171</td>\n",
       "      <td>7.2500</td>\n",
       "      <td>NaN</td>\n",
       "      <td>S</td>\n",
       "    </tr>\n",
       "    <tr>\n",
       "      <th>1</th>\n",
       "      <td>2</td>\n",
       "      <td>1</td>\n",
       "      <td>1</td>\n",
       "      <td>Cumings, Mrs. John Bradley (Florence Briggs Th...</td>\n",
       "      <td>female</td>\n",
       "      <td>38.0</td>\n",
       "      <td>1</td>\n",
       "      <td>0</td>\n",
       "      <td>PC 17599</td>\n",
       "      <td>71.2833</td>\n",
       "      <td>C85</td>\n",
       "      <td>C</td>\n",
       "    </tr>\n",
       "    <tr>\n",
       "      <th>2</th>\n",
       "      <td>3</td>\n",
       "      <td>1</td>\n",
       "      <td>3</td>\n",
       "      <td>Heikkinen, Miss. Laina</td>\n",
       "      <td>female</td>\n",
       "      <td>26.0</td>\n",
       "      <td>0</td>\n",
       "      <td>0</td>\n",
       "      <td>STON/O2. 3101282</td>\n",
       "      <td>7.9250</td>\n",
       "      <td>NaN</td>\n",
       "      <td>S</td>\n",
       "    </tr>\n",
       "    <tr>\n",
       "      <th>3</th>\n",
       "      <td>4</td>\n",
       "      <td>1</td>\n",
       "      <td>1</td>\n",
       "      <td>Futrelle, Mrs. Jacques Heath (Lily May Peel)</td>\n",
       "      <td>female</td>\n",
       "      <td>35.0</td>\n",
       "      <td>1</td>\n",
       "      <td>0</td>\n",
       "      <td>113803</td>\n",
       "      <td>53.1000</td>\n",
       "      <td>C123</td>\n",
       "      <td>S</td>\n",
       "    </tr>\n",
       "    <tr>\n",
       "      <th>4</th>\n",
       "      <td>5</td>\n",
       "      <td>0</td>\n",
       "      <td>3</td>\n",
       "      <td>Allen, Mr. William Henry</td>\n",
       "      <td>male</td>\n",
       "      <td>35.0</td>\n",
       "      <td>0</td>\n",
       "      <td>0</td>\n",
       "      <td>373450</td>\n",
       "      <td>8.0500</td>\n",
       "      <td>NaN</td>\n",
       "      <td>S</td>\n",
       "    </tr>\n",
       "  </tbody>\n",
       "</table>\n",
       "</div>"
      ],
      "text/plain": [
       "   PassengerId  Survived  Pclass  \\\n",
       "0            1         0       3   \n",
       "1            2         1       1   \n",
       "2            3         1       3   \n",
       "3            4         1       1   \n",
       "4            5         0       3   \n",
       "\n",
       "                                                Name     Sex   Age  SibSp  \\\n",
       "0                            Braund, Mr. Owen Harris    male  22.0      1   \n",
       "1  Cumings, Mrs. John Bradley (Florence Briggs Th...  female  38.0      1   \n",
       "2                             Heikkinen, Miss. Laina  female  26.0      0   \n",
       "3       Futrelle, Mrs. Jacques Heath (Lily May Peel)  female  35.0      1   \n",
       "4                           Allen, Mr. William Henry    male  35.0      0   \n",
       "\n",
       "   Parch            Ticket     Fare Cabin Embarked  \n",
       "0      0         A/5 21171   7.2500   NaN        S  \n",
       "1      0          PC 17599  71.2833   C85        C  \n",
       "2      0  STON/O2. 3101282   7.9250   NaN        S  \n",
       "3      0            113803  53.1000  C123        S  \n",
       "4      0            373450   8.0500   NaN        S  "
      ]
     },
     "execution_count": 33,
     "metadata": {},
     "output_type": "execute_result"
    }
   ],
   "source": [
    "data.head()"
   ]
  },
  {
   "cell_type": "markdown",
   "metadata": {},
   "source": [
    "<b>Ages of youngest and oldest person on board</b>"
   ]
  },
  {
   "cell_type": "code",
   "execution_count": 125,
   "metadata": {
    "collapsed": false
   },
   "outputs": [
    {
     "data": {
      "text/plain": [
       "(0.42, 80.0)"
      ]
     },
     "execution_count": 125,
     "metadata": {},
     "output_type": "execute_result"
    }
   ],
   "source": [
    "data['Age'].min(), data['Age'].max()"
   ]
  },
  {
   "cell_type": "markdown",
   "metadata": {},
   "source": [
    "<h3>Number of people from each class</h3>"
   ]
  },
  {
   "cell_type": "code",
   "execution_count": 158,
   "metadata": {
    "collapsed": false
   },
   "outputs": [
    {
     "data": {
      "text/html": [
       "<div>\n",
       "<style scoped>\n",
       "    .dataframe tbody tr th:only-of-type {\n",
       "        vertical-align: middle;\n",
       "    }\n",
       "\n",
       "    .dataframe tbody tr th {\n",
       "        vertical-align: top;\n",
       "    }\n",
       "\n",
       "    .dataframe thead th {\n",
       "        text-align: right;\n",
       "    }\n",
       "</style>\n",
       "<table border=\"1\" class=\"dataframe\">\n",
       "  <thead>\n",
       "    <tr style=\"text-align: right;\">\n",
       "      <th></th>\n",
       "      <th>Class 1</th>\n",
       "      <th>Class 2</th>\n",
       "      <th>Class 3</th>\n",
       "    </tr>\n",
       "  </thead>\n",
       "  <tbody>\n",
       "    <tr>\n",
       "      <th>Count</th>\n",
       "      <td>216</td>\n",
       "      <td>184</td>\n",
       "      <td>491</td>\n",
       "    </tr>\n",
       "  </tbody>\n",
       "</table>\n",
       "</div>"
      ],
      "text/plain": [
       "       Class 1  Class 2  Class 3\n",
       "Count      216      184      491"
      ]
     },
     "execution_count": 158,
     "metadata": {},
     "output_type": "execute_result"
    }
   ],
   "source": [
    "df = pd.DataFrame([data['Pclass'].value_counts().sort_index()])\n",
    "df.columns = ['Class 1','Class 2','Class 3']\n",
    "df.index = ['Count']\n",
    "df"
   ]
  },
  {
   "cell_type": "markdown",
   "metadata": {},
   "source": [
    "<h2>Survival Percentage</h2>"
   ]
  },
  {
   "cell_type": "code",
   "execution_count": 159,
   "metadata": {
    "collapsed": false,
    "scrolled": false
   },
   "outputs": [
    {
     "data": {
      "text/html": [
       "<div>\n",
       "<style scoped>\n",
       "    .dataframe tbody tr th:only-of-type {\n",
       "        vertical-align: middle;\n",
       "    }\n",
       "\n",
       "    .dataframe tbody tr th {\n",
       "        vertical-align: top;\n",
       "    }\n",
       "\n",
       "    .dataframe thead th {\n",
       "        text-align: right;\n",
       "    }\n",
       "</style>\n",
       "<table border=\"1\" class=\"dataframe\">\n",
       "  <thead>\n",
       "    <tr style=\"text-align: right;\">\n",
       "      <th></th>\n",
       "      <th>Death</th>\n",
       "      <th>Survival</th>\n",
       "    </tr>\n",
       "  </thead>\n",
       "  <tbody>\n",
       "    <tr>\n",
       "      <th>Percentage</th>\n",
       "      <td>61.616162</td>\n",
       "      <td>38.383838</td>\n",
       "    </tr>\n",
       "  </tbody>\n",
       "</table>\n",
       "</div>"
      ],
      "text/plain": [
       "                Death   Survival\n",
       "Percentage  61.616162  38.383838"
      ]
     },
     "execution_count": 159,
     "metadata": {},
     "output_type": "execute_result"
    }
   ],
   "source": [
    "df = pd.DataFrame([data['Survived'].value_counts()*100/len(data)])\n",
    "df.index = ['Percentage']\n",
    "df.columns = ['Death', 'Survival']\n",
    "df"
   ]
  },
  {
   "cell_type": "markdown",
   "metadata": {},
   "source": [
    "<h2>Inference</h2>\n",
    "\n",
    "Around 62% people on board were killed in the titanic disaster from the available data while only 38% lived"
   ]
  },
  {
   "cell_type": "markdown",
   "metadata": {},
   "source": [
    "<h2>Sex Distribution</h2>"
   ]
  },
  {
   "cell_type": "code",
   "execution_count": 229,
   "metadata": {
    "collapsed": false
   },
   "outputs": [
    {
     "data": {
      "text/html": [
       "<div>\n",
       "<style scoped>\n",
       "    .dataframe tbody tr th:only-of-type {\n",
       "        vertical-align: middle;\n",
       "    }\n",
       "\n",
       "    .dataframe tbody tr th {\n",
       "        vertical-align: top;\n",
       "    }\n",
       "\n",
       "    .dataframe thead th {\n",
       "        text-align: right;\n",
       "    }\n",
       "</style>\n",
       "<table border=\"1\" class=\"dataframe\">\n",
       "  <thead>\n",
       "    <tr style=\"text-align: right;\">\n",
       "      <th></th>\n",
       "      <th>male</th>\n",
       "      <th>female</th>\n",
       "    </tr>\n",
       "  </thead>\n",
       "  <tbody>\n",
       "    <tr>\n",
       "      <th>Percentage</th>\n",
       "      <td>64.758698</td>\n",
       "      <td>35.241302</td>\n",
       "    </tr>\n",
       "  </tbody>\n",
       "</table>\n",
       "</div>"
      ],
      "text/plain": [
       "                 male     female\n",
       "Percentage  64.758698  35.241302"
      ]
     },
     "execution_count": 229,
     "metadata": {},
     "output_type": "execute_result"
    }
   ],
   "source": [
    "df = pd.DataFrame([data['Sex'].value_counts()*100/len(data)])\n",
    "df.index=['Percentage']\n",
    "df"
   ]
  },
  {
   "cell_type": "markdown",
   "metadata": {},
   "source": [
    "<h2>Boarding From Embarkments</h2>"
   ]
  },
  {
   "cell_type": "code",
   "execution_count": 165,
   "metadata": {
    "collapsed": false
   },
   "outputs": [
    {
     "data": {
      "text/plain": [
       "<matplotlib.text.Text at 0x7ff8978d8208>"
      ]
     },
     "execution_count": 165,
     "metadata": {},
     "output_type": "execute_result"
    },
    {
     "data": {
      "image/png": "[encoded data removed]",
      "text/plain": [
       "<matplotlib.figure.Figure at 0x7ff89791e3c8>"
      ]
     },
     "metadata": {},
     "output_type": "display_data"
    }
   ],
   "source": [
    "data.Embarked.value_counts().plot(kind='bar')\n",
    "plt.title(\"Passengers per boarding location\")"
   ]
  },
  {
   "cell_type": "markdown",
   "metadata": {},
   "source": [
    "<h2>Inference</h2>\n",
    "\n",
    "A large number of people boarded from the Port S"
   ]
  },
  {
   "cell_type": "code",
   "execution_count": 230,
   "metadata": {
    "collapsed": false
   },
   "outputs": [
    {
     "data": {
      "text/html": [
       "<div>\n",
       "<style scoped>\n",
       "    .dataframe tbody tr th:only-of-type {\n",
       "        vertical-align: middle;\n",
       "    }\n",
       "\n",
       "    .dataframe tbody tr th {\n",
       "        vertical-align: top;\n",
       "    }\n",
       "\n",
       "    .dataframe thead th {\n",
       "        text-align: right;\n",
       "    }\n",
       "</style>\n",
       "<table border=\"1\" class=\"dataframe\">\n",
       "  <thead>\n",
       "    <tr style=\"text-align: right;\">\n",
       "      <th></th>\n",
       "      <th>Embarked</th>\n",
       "      <th>Survived</th>\n",
       "    </tr>\n",
       "  </thead>\n",
       "  <tbody>\n",
       "    <tr>\n",
       "      <th>0</th>\n",
       "      <td>C</td>\n",
       "      <td>0.553571</td>\n",
       "    </tr>\n",
       "    <tr>\n",
       "      <th>1</th>\n",
       "      <td>Q</td>\n",
       "      <td>0.389610</td>\n",
       "    </tr>\n",
       "    <tr>\n",
       "      <th>2</th>\n",
       "      <td>S</td>\n",
       "      <td>0.336957</td>\n",
       "    </tr>\n",
       "  </tbody>\n",
       "</table>\n",
       "</div>"
      ],
      "text/plain": [
       "  Embarked  Survived\n",
       "0        C  0.553571\n",
       "1        Q  0.389610\n",
       "2        S  0.336957"
      ]
     },
     "execution_count": 230,
     "metadata": {},
     "output_type": "execute_result"
    },
    {
     "data": {
      "image/png": "[encoded data removed]",
      "text/plain": [
       "<matplotlib.figure.Figure at 0x7ff8952a6198>"
      ]
     },
     "metadata": {},
     "output_type": "display_data"
    }
   ],
   "source": [
    "survived = data[data['Survived']==1]['Embarked'].value_counts()\n",
    "dead = data[data['Survived']==0]['Embarked'].value_counts()\n",
    "df = pd.DataFrame([survived,dead])\n",
    "df.index = ['Survived','Dead']\n",
    "df.plot(kind='bar', stacked=False, figsize=(8,6))\n",
    "plt.title(\"Survival and Death in Different ports\")\n",
    "\n",
    "#OR sns.barplot(x='Embarked',y='Survived',data=data)\n",
    "\n",
    "data[['Embarked','Survived']].groupby('Embarked',as_index=False).mean().sort_values(by='Survived',ascending=False)"
   ]
  },
  {
   "cell_type": "markdown",
   "metadata": {},
   "source": [
    "<h2>Inference</h2>\n",
    "<br>\n",
    "<p><b>Boarding from Port C gave better chances of survival</b></p>"
   ]
  },
  {
   "cell_type": "markdown",
   "metadata": {},
   "source": [
    "<h2>Survival Count</h2>"
   ]
  },
  {
   "cell_type": "code",
   "execution_count": 231,
   "metadata": {
    "collapsed": false
   },
   "outputs": [
    {
     "data": {
      "text/html": [
       "<div>\n",
       "<style scoped>\n",
       "    .dataframe tbody tr th:only-of-type {\n",
       "        vertical-align: middle;\n",
       "    }\n",
       "\n",
       "    .dataframe tbody tr th {\n",
       "        vertical-align: top;\n",
       "    }\n",
       "\n",
       "    .dataframe thead th {\n",
       "        text-align: right;\n",
       "    }\n",
       "</style>\n",
       "<table border=\"1\" class=\"dataframe\">\n",
       "  <thead>\n",
       "    <tr style=\"text-align: right;\">\n",
       "      <th></th>\n",
       "      <th>Dead</th>\n",
       "      <th>Survived</th>\n",
       "    </tr>\n",
       "  </thead>\n",
       "  <tbody>\n",
       "    <tr>\n",
       "      <th>Count</th>\n",
       "      <td>549.000000</td>\n",
       "      <td>342.000000</td>\n",
       "    </tr>\n",
       "    <tr>\n",
       "      <th>Percentage</th>\n",
       "      <td>61.616162</td>\n",
       "      <td>38.383838</td>\n",
       "    </tr>\n",
       "  </tbody>\n",
       "</table>\n",
       "</div>"
      ],
      "text/plain": [
       "                  Dead    Survived\n",
       "Count       549.000000  342.000000\n",
       "Percentage   61.616162   38.383838"
      ]
     },
     "execution_count": 231,
     "metadata": {},
     "output_type": "execute_result"
    }
   ],
   "source": [
    "df = pd.DataFrame([data['Survived'].value_counts(),data['Survived'].value_counts()*100/len(data)])\n",
    "df.index = ['Count','Percentage']\n",
    "df.columns = ['Dead','Survived']\n",
    "df"
   ]
  },
  {
   "cell_type": "markdown",
   "metadata": {},
   "source": [
    "<h2>Inference</h2>\n",
    "\n",
    "549 people from the 891 in the given data died while 342 survived"
   ]
  },
  {
   "cell_type": "code",
   "execution_count": 233,
   "metadata": {
    "collapsed": false
   },
   "outputs": [
    {
     "data": {
      "text/plain": [
       "<matplotlib.axes._subplots.AxesSubplot at 0x7ff894f17080>"
      ]
     },
     "execution_count": 233,
     "metadata": {},
     "output_type": "execute_result"
    },
    {
     "data": {
      "image/png": "[encoded data removed]",
      "text/plain": [
       "<matplotlib.figure.Figure at 0x7ff894f1fb70>"
      ]
     },
     "metadata": {},
     "output_type": "display_data"
    }
   ],
   "source": [
    "data['Survived'].value_counts().plot(kind='bar',alpha=0.8)\n"
   ]
  },
  {
   "cell_type": "code",
   "execution_count": 234,
   "metadata": {
    "collapsed": false
   },
   "outputs": [
    {
     "data": {
      "text/html": [
       "<div>\n",
       "<style scoped>\n",
       "    .dataframe tbody tr th:only-of-type {\n",
       "        vertical-align: middle;\n",
       "    }\n",
       "\n",
       "    .dataframe tbody tr th {\n",
       "        vertical-align: top;\n",
       "    }\n",
       "\n",
       "    .dataframe thead th {\n",
       "        text-align: right;\n",
       "    }\n",
       "</style>\n",
       "<table border=\"1\" class=\"dataframe\">\n",
       "  <thead>\n",
       "    <tr style=\"text-align: right;\">\n",
       "      <th></th>\n",
       "      <th>Male</th>\n",
       "      <th>Female</th>\n",
       "    </tr>\n",
       "  </thead>\n",
       "  <tbody>\n",
       "    <tr>\n",
       "      <th>Count</th>\n",
       "      <td>577.000000</td>\n",
       "      <td>314.000000</td>\n",
       "    </tr>\n",
       "    <tr>\n",
       "      <th>Percentage</th>\n",
       "      <td>64.758698</td>\n",
       "      <td>35.241302</td>\n",
       "    </tr>\n",
       "  </tbody>\n",
       "</table>\n",
       "</div>"
      ],
      "text/plain": [
       "                  Male      Female\n",
       "Count       577.000000  314.000000\n",
       "Percentage   64.758698   35.241302"
      ]
     },
     "execution_count": 234,
     "metadata": {},
     "output_type": "execute_result"
    }
   ],
   "source": [
    "df = pd.DataFrame([data['Sex'].value_counts(),data['Sex'].value_counts()*100/len(data)])\n",
    "df.index = ['Count','Percentage']\n",
    "df.columns = ['Male','Female']\n",
    "df"
   ]
  },
  {
   "cell_type": "code",
   "execution_count": 235,
   "metadata": {
    "collapsed": false,
    "scrolled": false
   },
   "outputs": [
    {
     "data": {
      "text/plain": [
       "<matplotlib.axes._subplots.AxesSubplot at 0x7ff894ed0748>"
      ]
     },
     "execution_count": 235,
     "metadata": {},
     "output_type": "execute_result"
    },
    {
     "data": {
      "image/png": "[encoded data removed]",
      "text/plain": [
       "<matplotlib.figure.Figure at 0x7ff897eeefd0>"
      ]
     },
     "metadata": {},
     "output_type": "display_data"
    }
   ],
   "source": [
    "data['Sex'].value_counts().plot(kind='bar',alpha=alpha_color,color=['b','r'])"
   ]
  },
  {
   "cell_type": "code",
   "execution_count": 236,
   "metadata": {
    "collapsed": false
   },
   "outputs": [
    {
     "name": "stderr",
     "output_type": "stream",
     "text": [
      "/home/aditya/anaconda3/lib/python3.5/site-packages/ipykernel/__main__.py:1: UserWarning: Boolean Series key will be reindexed to match DataFrame index.\n",
      "  if __name__ == '__main__':\n",
      "/home/aditya/anaconda3/lib/python3.5/site-packages/ipykernel/__main__.py:2: UserWarning: Boolean Series key will be reindexed to match DataFrame index.\n",
      "  from ipykernel import kernelapp as app\n"
     ]
    }
   ],
   "source": [
    "female_surv = data[data['Sex']=='female'][data['Survived']==1]['Sex'].value_counts()/len(data[data['Sex']=='female']['Sex'])\n",
    "male_surv = data[data['Sex']=='male'][data['Survived']==1]['Sex'].value_counts()/len(data[data['Sex']=='male']['Sex'])\n"
   ]
  },
  {
   "cell_type": "code",
   "execution_count": 42,
   "metadata": {
    "collapsed": false
   },
   "outputs": [
    {
     "data": {
      "text/plain": [
       "Sex     Survived\n",
       "female  0            81\n",
       "        1           233\n",
       "male    0           468\n",
       "        1           109\n",
       "Name: Survived, dtype: int64"
      ]
     },
     "execution_count": 42,
     "metadata": {},
     "output_type": "execute_result"
    }
   ],
   "source": [
    "data.groupby(['Sex','Survived'])['Survived'].count()"
   ]
  },
  {
   "cell_type": "markdown",
   "metadata": {},
   "source": [
    "<h3>Male Survival Ratio</h3>"
   ]
  },
  {
   "cell_type": "code",
   "execution_count": 186,
   "metadata": {
    "collapsed": false
   },
   "outputs": [
    {
     "data": {
      "text/plain": [
       "male    0.188908\n",
       "Name: Sex, dtype: float64"
      ]
     },
     "execution_count": 186,
     "metadata": {},
     "output_type": "execute_result"
    }
   ],
   "source": [
    "male_surv"
   ]
  },
  {
   "cell_type": "markdown",
   "metadata": {},
   "source": [
    "<h3>Female Survival Ratio</h3>"
   ]
  },
  {
   "cell_type": "code",
   "execution_count": 187,
   "metadata": {
    "collapsed": false
   },
   "outputs": [
    {
     "data": {
      "text/plain": [
       "female    0.742038\n",
       "Name: Sex, dtype: float64"
      ]
     },
     "execution_count": 187,
     "metadata": {},
     "output_type": "execute_result"
    }
   ],
   "source": [
    "female_surv"
   ]
  },
  {
   "cell_type": "markdown",
   "metadata": {},
   "source": [
    "<h2>Inference</h2>\n",
    "\n",
    "<b>Being a Female gave you better chances of survival<b>"
   ]
  },
  {
   "cell_type": "code",
   "execution_count": 237,
   "metadata": {
    "collapsed": false,
    "scrolled": true
   },
   "outputs": [
    {
     "data": {
      "text/plain": [
       "<matplotlib.axes._subplots.AxesSubplot at 0x7ff894e73748>"
      ]
     },
     "execution_count": 237,
     "metadata": {},
     "output_type": "execute_result"
    },
    {
     "data": {
      "image/png": "[encoded data removed]",
      "text/plain": [
       "<matplotlib.figure.Figure at 0x7ff894e78710>"
      ]
     },
     "metadata": {},
     "output_type": "display_data"
    }
   ],
   "source": [
    "data['Pclass'].value_counts().sort_index().plot(kind='bar',alpha=0.8) "
   ]
  },
  {
   "cell_type": "code",
   "execution_count": 238,
   "metadata": {
    "collapsed": false,
    "scrolled": false
   },
   "outputs": [
    {
     "name": "stderr",
     "output_type": "stream",
     "text": [
      "/home/aditya/anaconda3/lib/python3.5/site-packages/scipy/stats/stats.py:1713: FutureWarning: Using a non-tuple sequence for multidimensional indexing is deprecated; use `arr[tuple(seq)]` instead of `arr[seq]`. In the future this will be interpreted as an array index, `arr[np.array(seq)]`, which will result either in an error or a different result.\n",
      "  return np.add.reduce(sorted[indexer] * weights, axis=axis) / sumval\n"
     ]
    },
    {
     "data": {
      "text/plain": [
       "<matplotlib.axes._subplots.AxesSubplot at 0x7ff894df0fd0>"
      ]
     },
     "execution_count": 238,
     "metadata": {},
     "output_type": "execute_result"
    },
    {
     "data": {
      "image/png": "[encoded data removed]",
      "text/plain": [
       "<matplotlib.figure.Figure at 0x7ff894f2c940>"
      ]
     },
     "metadata": {},
     "output_type": "display_data"
    }
   ],
   "source": [
    "sns.barplot(x='Pclass',y='Survived',data=data)\n"
   ]
  },
  {
   "cell_type": "code",
   "execution_count": 239,
   "metadata": {
    "collapsed": false,
    "scrolled": true
   },
   "outputs": [
    {
     "name": "stderr",
     "output_type": "stream",
     "text": [
      "/home/aditya/anaconda3/lib/python3.5/site-packages/ipykernel/__main__.py:1: UserWarning: Boolean Series key will be reindexed to match DataFrame index.\n",
      "  if __name__ == '__main__':\n",
      "/home/aditya/anaconda3/lib/python3.5/site-packages/ipykernel/__main__.py:2: UserWarning: Boolean Series key will be reindexed to match DataFrame index.\n",
      "  from ipykernel import kernelapp as app\n",
      "/home/aditya/anaconda3/lib/python3.5/site-packages/ipykernel/__main__.py:3: UserWarning: Boolean Series key will be reindexed to match DataFrame index.\n",
      "  app.launch_new_instance()\n"
     ]
    }
   ],
   "source": [
    "class1_survived = data[data['Pclass']==1][data['Survived']==1]['Pclass'].value_counts()*100/len(data[data['Pclass']==1])\n",
    "class2_survived = data[data['Pclass']==2][data['Survived']==1]['Pclass'].value_counts()*100/len(data[data['Pclass']==2])\n",
    "class3_survived = data[data['Pclass']==3][data['Survived']==1]['Pclass'].value_counts()*100/len(data[data['Pclass']==3])\n"
   ]
  },
  {
   "cell_type": "code",
   "execution_count": 240,
   "metadata": {
    "collapsed": false,
    "scrolled": true
   },
   "outputs": [
    {
     "data": {
      "text/html": [
       "<div>\n",
       "<style scoped>\n",
       "    .dataframe tbody tr th:only-of-type {\n",
       "        vertical-align: middle;\n",
       "    }\n",
       "\n",
       "    .dataframe tbody tr th {\n",
       "        vertical-align: top;\n",
       "    }\n",
       "\n",
       "    .dataframe thead th {\n",
       "        text-align: right;\n",
       "    }\n",
       "</style>\n",
       "<table border=\"1\" class=\"dataframe\">\n",
       "  <thead>\n",
       "    <tr style=\"text-align: right;\">\n",
       "      <th></th>\n",
       "      <th>Percentage</th>\n",
       "    </tr>\n",
       "  </thead>\n",
       "  <tbody>\n",
       "    <tr>\n",
       "      <th>1</th>\n",
       "      <td>62.962963</td>\n",
       "    </tr>\n",
       "    <tr>\n",
       "      <th>2</th>\n",
       "      <td>47.282609</td>\n",
       "    </tr>\n",
       "    <tr>\n",
       "      <th>3</th>\n",
       "      <td>24.236253</td>\n",
       "    </tr>\n",
       "  </tbody>\n",
       "</table>\n",
       "</div>"
      ],
      "text/plain": [
       "   Percentage\n",
       "1   62.962963\n",
       "2   47.282609\n",
       "3   24.236253"
      ]
     },
     "execution_count": 240,
     "metadata": {},
     "output_type": "execute_result"
    }
   ],
   "source": [
    "df = pd.concat([class1_survived, class2_survived,class3_survived]).to_frame()\n",
    "df.columns = ['Percentage']\n",
    "df"
   ]
  },
  {
   "cell_type": "markdown",
   "metadata": {},
   "source": [
    "<h2>Inference</h2>\n",
    "\n",
    "Passenger in Pclass 3 have lower chances of survival.Clearly Class had an effect on survival of each passenger with the percentages of survival being 62.96%, 47.28%, 24.23% for Pclass 1, 2 and 3 respectively. Thus, belonging to Pclass = 1 had a huge advantage."
   ]
  },
  {
   "cell_type": "code",
   "execution_count": 241,
   "metadata": {
    "collapsed": false,
    "scrolled": true
   },
   "outputs": [
    {
     "data": {
      "text/plain": [
       "<matplotlib.axes._subplots.AxesSubplot at 0x7ff894e5b400>"
      ]
     },
     "execution_count": 241,
     "metadata": {},
     "output_type": "execute_result"
    },
    {
     "data": {
      "image/png": "[encoded data removed]",
      "text/plain": [
       "<matplotlib.figure.Figure at 0x7ff894d39fd0>"
      ]
     },
     "metadata": {},
     "output_type": "display_data"
    }
   ],
   "source": [
    "data.plot(kind='scatter', x='Age',y='Survived',color=['b'],alpha=0.35)\n"
   ]
  },
  {
   "cell_type": "code",
   "execution_count": 242,
   "metadata": {
    "collapsed": false
   },
   "outputs": [
    {
     "name": "stdout",
     "output_type": "stream",
     "text": [
      "Oldest person Survived was of: 80.0\n",
      "Youngest person Survived was of: 0.42\n",
      "Average person Survived was of: 29.69911764705882\n"
     ]
    }
   ],
   "source": [
    "print('Oldest person Survived was of:',data['Age'].max())\n",
    "print('Youngest person Survived was of:',data['Age'].min())\n",
    "print('Average person Survived was of:',data['Age'].mean())"
   ]
  },
  {
   "cell_type": "code",
   "execution_count": 243,
   "metadata": {
    "collapsed": false
   },
   "outputs": [
    {
     "data": {
      "image/png": "[encoded data removed]",
      "text/plain": [
       "<matplotlib.figure.Figure at 0x7ff894c9ba58>"
      ]
     },
     "metadata": {},
     "output_type": "display_data"
    }
   ],
   "source": [
    "data.groupby(['Sex','Survived'])['Survived'].mean().plot.bar()\n",
    "sns.countplot('Sex',hue='Survived',data=data)\n",
    "plt.show()"
   ]
  },
  {
   "cell_type": "code",
   "execution_count": 244,
   "metadata": {
    "collapsed": false
   },
   "outputs": [
    {
     "data": {
      "image/png": "[encoded data removed]",
      "text/plain": [
       "<matplotlib.figure.Figure at 0x7ff894de9438>"
      ]
     },
     "metadata": {},
     "output_type": "display_data"
    }
   ],
   "source": [
    "sns.countplot('Pclass',hue='Survived',data=data)\n",
    "plt.title('Pclass:Survived vs Dead')\n",
    "plt.show()"
   ]
  },
  {
   "cell_type": "code",
   "execution_count": 245,
   "metadata": {
    "collapsed": false
   },
   "outputs": [
    {
     "data": {
      "text/plain": [
       "<matplotlib.axes._subplots.AxesSubplot at 0x7ff894cccba8>"
      ]
     },
     "execution_count": 245,
     "metadata": {},
     "output_type": "execute_result"
    },
    {
     "data": {
      "image/png": "[encoded data removed]",
      "text/plain": [
       "<matplotlib.figure.Figure at 0x7ff894bdb940>"
      ]
     },
     "metadata": {},
     "output_type": "display_data"
    }
   ],
   "source": [
    "pclass_survived = data[data['Survived']==1]['Pclass'].value_counts()\n",
    "pclass_dead = data[data['Survived']==0]['Pclass'].value_counts()\n",
    "df = pd.DataFrame([pclass_survived,pclass_dead])\n",
    "df.index = ['Survived','Dead']\n",
    "df.plot(kind='bar', stacked=True, figsize=(10,8))"
   ]
  },
  {
   "cell_type": "code",
   "execution_count": 71,
   "metadata": {
    "collapsed": false,
    "scrolled": true
   },
   "outputs": [
    {
     "data": {
      "text/html": [
       "<style  type=\"text/css\" >\n",
       "    #T_fa676580_2fb1_11e9_b8ff_74dfbf8b1ae3row0_col0 {\n",
       "            background-color:  #ffff66;\n",
       "        }    #T_fa676580_2fb1_11e9_b8ff_74dfbf8b1ae3row0_col1 {\n",
       "            background-color:  #ffff66;\n",
       "        }    #T_fa676580_2fb1_11e9_b8ff_74dfbf8b1ae3row0_col2 {\n",
       "            background-color:  #f1f866;\n",
       "        }    #T_fa676580_2fb1_11e9_b8ff_74dfbf8b1ae3row0_col3 {\n",
       "            background-color:  #ffff66;\n",
       "        }    #T_fa676580_2fb1_11e9_b8ff_74dfbf8b1ae3row1_col0 {\n",
       "            background-color:  #96cb66;\n",
       "        }    #T_fa676580_2fb1_11e9_b8ff_74dfbf8b1ae3row1_col1 {\n",
       "            background-color:  #a3d166;\n",
       "        }    #T_fa676580_2fb1_11e9_b8ff_74dfbf8b1ae3row1_col2 {\n",
       "            background-color:  #f1f866;\n",
       "        }    #T_fa676580_2fb1_11e9_b8ff_74dfbf8b1ae3row1_col3 {\n",
       "            background-color:  #cfe766;\n",
       "        }    #T_fa676580_2fb1_11e9_b8ff_74dfbf8b1ae3row2_col0 {\n",
       "            background-color:  #a7d366;\n",
       "        }    #T_fa676580_2fb1_11e9_b8ff_74dfbf8b1ae3row2_col1 {\n",
       "            background-color:  #85c266;\n",
       "        }    #T_fa676580_2fb1_11e9_b8ff_74dfbf8b1ae3row2_col2 {\n",
       "            background-color:  #6eb666;\n",
       "        }    #T_fa676580_2fb1_11e9_b8ff_74dfbf8b1ae3row2_col3 {\n",
       "            background-color:  #85c266;\n",
       "        }    #T_fa676580_2fb1_11e9_b8ff_74dfbf8b1ae3row3_col0 {\n",
       "            background-color:  #cde666;\n",
       "        }    #T_fa676580_2fb1_11e9_b8ff_74dfbf8b1ae3row3_col1 {\n",
       "            background-color:  #f0f866;\n",
       "        }    #T_fa676580_2fb1_11e9_b8ff_74dfbf8b1ae3row3_col2 {\n",
       "            background-color:  #ffff66;\n",
       "        }    #T_fa676580_2fb1_11e9_b8ff_74dfbf8b1ae3row3_col3 {\n",
       "            background-color:  #f7fb66;\n",
       "        }    #T_fa676580_2fb1_11e9_b8ff_74dfbf8b1ae3row4_col0 {\n",
       "            background-color:  #008066;\n",
       "        }    #T_fa676580_2fb1_11e9_b8ff_74dfbf8b1ae3row4_col1 {\n",
       "            background-color:  #008066;\n",
       "        }    #T_fa676580_2fb1_11e9_b8ff_74dfbf8b1ae3row4_col2 {\n",
       "            background-color:  #008066;\n",
       "        }    #T_fa676580_2fb1_11e9_b8ff_74dfbf8b1ae3row4_col3 {\n",
       "            background-color:  #008066;\n",
       "        }</style>  \n",
       "<table id=\"T_fa676580_2fb1_11e9_b8ff_74dfbf8b1ae3\" > \n",
       "<thead>    <tr> \n",
       "        <th class=\"blank\" ></th> \n",
       "        <th class=\"index_name level0\" >Pclass</th> \n",
       "        <th class=\"col_heading level0 col0\" >1</th> \n",
       "        <th class=\"col_heading level0 col1\" >2</th> \n",
       "        <th class=\"col_heading level0 col2\" >3</th> \n",
       "        <th class=\"col_heading level0 col3\" >All</th> \n",
       "    </tr>    <tr> \n",
       "        <th class=\"index_name level0\" >Sex</th> \n",
       "        <th class=\"index_name level1\" >Survived</th> \n",
       "        <th class=\"blank\" ></th> \n",
       "        <th class=\"blank\" ></th> \n",
       "        <th class=\"blank\" ></th> \n",
       "        <th class=\"blank\" ></th> \n",
       "    </tr></thead> \n",
       "<tbody>    <tr> \n",
       "        <th id=\"T_fa676580_2fb1_11e9_b8ff_74dfbf8b1ae3level0_row0\" class=\"row_heading level0 row0\" rowspan=2>female</th> \n",
       "        <th id=\"T_fa676580_2fb1_11e9_b8ff_74dfbf8b1ae3level1_row0\" class=\"row_heading level1 row0\" >0</th> \n",
       "        <td id=\"T_fa676580_2fb1_11e9_b8ff_74dfbf8b1ae3row0_col0\" class=\"data row0 col0\" >3</td> \n",
       "        <td id=\"T_fa676580_2fb1_11e9_b8ff_74dfbf8b1ae3row0_col1\" class=\"data row0 col1\" >6</td> \n",
       "        <td id=\"T_fa676580_2fb1_11e9_b8ff_74dfbf8b1ae3row0_col2\" class=\"data row0 col2\" >72</td> \n",
       "        <td id=\"T_fa676580_2fb1_11e9_b8ff_74dfbf8b1ae3row0_col3\" class=\"data row0 col3\" >81</td> \n",
       "    </tr>    <tr> \n",
       "        <th id=\"T_fa676580_2fb1_11e9_b8ff_74dfbf8b1ae3level1_row1\" class=\"row_heading level1 row1\" >1</th> \n",
       "        <td id=\"T_fa676580_2fb1_11e9_b8ff_74dfbf8b1ae3row1_col0\" class=\"data row1 col0\" >91</td> \n",
       "        <td id=\"T_fa676580_2fb1_11e9_b8ff_74dfbf8b1ae3row1_col1\" class=\"data row1 col1\" >70</td> \n",
       "        <td id=\"T_fa676580_2fb1_11e9_b8ff_74dfbf8b1ae3row1_col2\" class=\"data row1 col2\" >72</td> \n",
       "        <td id=\"T_fa676580_2fb1_11e9_b8ff_74dfbf8b1ae3row1_col3\" class=\"data row1 col3\" >233</td> \n",
       "    </tr>    <tr> \n",
       "        <th id=\"T_fa676580_2fb1_11e9_b8ff_74dfbf8b1ae3level0_row2\" class=\"row_heading level0 row2\" rowspan=2>male</th> \n",
       "        <th id=\"T_fa676580_2fb1_11e9_b8ff_74dfbf8b1ae3level1_row2\" class=\"row_heading level1 row2\" >0</th> \n",
       "        <td id=\"T_fa676580_2fb1_11e9_b8ff_74dfbf8b1ae3row2_col0\" class=\"data row2 col0\" >77</td> \n",
       "        <td id=\"T_fa676580_2fb1_11e9_b8ff_74dfbf8b1ae3row2_col1\" class=\"data row2 col1\" >91</td> \n",
       "        <td id=\"T_fa676580_2fb1_11e9_b8ff_74dfbf8b1ae3row2_col2\" class=\"data row2 col2\" >300</td> \n",
       "        <td id=\"T_fa676580_2fb1_11e9_b8ff_74dfbf8b1ae3row2_col3\" class=\"data row2 col3\" >468</td> \n",
       "    </tr>    <tr> \n",
       "        <th id=\"T_fa676580_2fb1_11e9_b8ff_74dfbf8b1ae3level1_row3\" class=\"row_heading level1 row3\" >1</th> \n",
       "        <td id=\"T_fa676580_2fb1_11e9_b8ff_74dfbf8b1ae3row3_col0\" class=\"data row3 col0\" >45</td> \n",
       "        <td id=\"T_fa676580_2fb1_11e9_b8ff_74dfbf8b1ae3row3_col1\" class=\"data row3 col1\" >17</td> \n",
       "        <td id=\"T_fa676580_2fb1_11e9_b8ff_74dfbf8b1ae3row3_col2\" class=\"data row3 col2\" >47</td> \n",
       "        <td id=\"T_fa676580_2fb1_11e9_b8ff_74dfbf8b1ae3row3_col3\" class=\"data row3 col3\" >109</td> \n",
       "    </tr>    <tr> \n",
       "        <th id=\"T_fa676580_2fb1_11e9_b8ff_74dfbf8b1ae3level0_row4\" class=\"row_heading level0 row4\" >All</th> \n",
       "        <th id=\"T_fa676580_2fb1_11e9_b8ff_74dfbf8b1ae3level1_row4\" class=\"row_heading level1 row4\" ></th> \n",
       "        <td id=\"T_fa676580_2fb1_11e9_b8ff_74dfbf8b1ae3row4_col0\" class=\"data row4 col0\" >216</td> \n",
       "        <td id=\"T_fa676580_2fb1_11e9_b8ff_74dfbf8b1ae3row4_col1\" class=\"data row4 col1\" >184</td> \n",
       "        <td id=\"T_fa676580_2fb1_11e9_b8ff_74dfbf8b1ae3row4_col2\" class=\"data row4 col2\" >491</td> \n",
       "        <td id=\"T_fa676580_2fb1_11e9_b8ff_74dfbf8b1ae3row4_col3\" class=\"data row4 col3\" >891</td> \n",
       "    </tr></tbody> \n",
       "</table> "
      ],
      "text/plain": [
       "<pandas.io.formats.style.Styler at 0x7ff89c0ce080>"
      ]
     },
     "execution_count": 71,
     "metadata": {},
     "output_type": "execute_result"
    }
   ],
   "source": [
    "pd.crosstab([data.Sex,data.Survived],data.Pclass,margins=True).style.background_gradient(cmap='summer_r')\n"
   ]
  },
  {
   "cell_type": "markdown",
   "metadata": {},
   "source": [
    "<h2>Inference</h2>\n",
    "\n",
    "Women were given more preference from higher classes. As we can see the only total of 3+6=9 women from Class 1 and Class 2 died while 72 women died from Class 3 "
   ]
  },
  {
   "cell_type": "markdown",
   "metadata": {},
   "source": [
    "<h2>Categorical Variable Visualisation</h2>"
   ]
  },
  {
   "cell_type": "code",
   "execution_count": 246,
   "metadata": {
    "collapsed": false
   },
   "outputs": [
    {
     "name": "stderr",
     "output_type": "stream",
     "text": [
      "/home/aditya/anaconda3/lib/python3.5/site-packages/scipy/stats/stats.py:1713: FutureWarning: Using a non-tuple sequence for multidimensional indexing is deprecated; use `arr[tuple(seq)]` instead of `arr[seq]`. In the future this will be interpreted as an array index, `arr[np.array(seq)]`, which will result either in an error or a different result.\n",
      "  return np.add.reduce(sorted[indexer] * weights, axis=axis) / sumval\n"
     ]
    },
    {
     "data": {
      "image/png": "[encoded data removed]",
      "text/plain": [
       "<matplotlib.figure.Figure at 0x7ff894be3588>"
      ]
     },
     "metadata": {},
     "output_type": "display_data"
    }
   ],
   "source": [
    "sns.factorplot('Pclass', 'Survived', hue='Sex', data=data)\n",
    "plt.show()"
   ]
  },
  {
   "cell_type": "code",
   "execution_count": 247,
   "metadata": {
    "collapsed": false
   },
   "outputs": [
    {
     "name": "stderr",
     "output_type": "stream",
     "text": [
      "/home/aditya/anaconda3/lib/python3.5/site-packages/scipy/stats/stats.py:1713: FutureWarning: Using a non-tuple sequence for multidimensional indexing is deprecated; use `arr[tuple(seq)]` instead of `arr[seq]`. In the future this will be interpreted as an array index, `arr[np.array(seq)]`, which will result either in an error or a different result.\n",
      "  return np.add.reduce(sorted[indexer] * weights, axis=axis) / sumval\n"
     ]
    },
    {
     "data": {
      "text/plain": [
       "<matplotlib.axes._subplots.AxesSubplot at 0x7ff894ae45f8>"
      ]
     },
     "execution_count": 247,
     "metadata": {},
     "output_type": "execute_result"
    },
    {
     "data": {
      "image/png": "[encoded data removed]",
      "text/plain": [
       "<matplotlib.figure.Figure at 0x7ff894aa2b38>"
      ]
     },
     "metadata": {},
     "output_type": "display_data"
    }
   ],
   "source": [
    "sns.barplot(x='Sex',y='Survived',data=data)\n"
   ]
  },
  {
   "cell_type": "code",
   "execution_count": 248,
   "metadata": {
    "collapsed": false,
    "scrolled": false
   },
   "outputs": [
    {
     "data": {
      "image/png": "[encoded data removed]",
      "text/plain": [
       "<matplotlib.figure.Figure at 0x7ff894a908d0>"
      ]
     },
     "metadata": {},
     "output_type": "display_data"
    }
   ],
   "source": [
    "f,ax=plt.subplots(1,2,figsize=(10,10))\n",
    "data[data['Survived']==0].Age.plot.hist(ax=ax[0],bins=20,edgecolor='black',color='red',alpha=0.6)\n",
    "ax[0].set_title('Survived = 0')\n",
    "x1=list(range(0,85,5))\n",
    "ax[0].set_xticks(x1)\n",
    "data[data['Survived']==1].Age.plot.hist(ax=ax[1],bins=20,edgecolor='black',color='green',alpha=0.6)\n",
    "x2=list(range(0,85,5))\n",
    "ax[1].set_xticks(x2)\n",
    "ax[1].set_title('Survived = 1')\n",
    "plt.show()"
   ]
  },
  {
   "cell_type": "markdown",
   "metadata": {},
   "source": [
    "<h3> Inference</h3>\n",
    "<br>\n",
    "<p><b>(1) First priority during Rescue is given to children and women, as the persons less than 5 are save by large numbers (2) The oldest saved passanger is of 80 (3) The most deaths were between 20-40</b>"
   ]
  },
  {
   "cell_type": "code",
   "execution_count": 249,
   "metadata": {
    "collapsed": false
   },
   "outputs": [
    {
     "data": {
      "text/plain": [
       "<matplotlib.legend.Legend at 0x7ff893696f98>"
      ]
     },
     "execution_count": 249,
     "metadata": {},
     "output_type": "execute_result"
    },
    {
     "data": {
      "image/png": "[encoded data removed]",
      "text/plain": [
       "<matplotlib.figure.Figure at 0x7ff8953344a8>"
      ]
     },
     "metadata": {},
     "output_type": "display_data"
    }
   ],
   "source": [
    "women = data[data['Sex']=='female']\n",
    "men = data[data['Sex']=='male']\n",
    "fig,axes = plt.subplots(nrows=1,ncols=2,figsize=(10,4))\n",
    "ax = sns.distplot(women[women['Survived'] == 1].Age.dropna(),label='Survived',bins=20,ax=axes[0],kde=False)\n",
    "ax = sns.distplot(women[women['Survived'] == 0].Age.dropna(),label='Not Survived',bins=40,ax=axes[0],kde=False)\n",
    "ax.set_title('Female')\n",
    "ax.legend()\n",
    "ax = sns.distplot(men[men['Survived'] == 1].Age.dropna(),label='Survived',bins=20,ax=axes[1],kde=False)\n",
    "ax = sns.distplot(men[men['Survived'] == 0].Age.dropna(),label='Not Survived',bins=40,ax=axes[1],kde=False)\n",
    "ax.set_title('Male')\n",
    "ax.legend()"
   ]
  },
  {
   "cell_type": "markdown",
   "metadata": {},
   "source": [
    "<h2>Inference</h2>"
   ]
  },
  {
   "cell_type": "markdown",
   "metadata": {},
   "source": [
    "Females between Age of 15 and 40 had high chances of survival. Also we can notice that females infants/toddlers also had a higher chance of survival. This may be because females have given preference while embarking.\n",
    "\n",
    "While Males between Age of 20 and 35 had higher chances of survival. This is almost same as women\n",
    "\n",
    "People who travelled in first class had higher chances of survival ( they were housed in upper decks of the ship )."
   ]
  },
  {
   "cell_type": "code",
   "execution_count": null,
   "metadata": {
    "collapsed": false
   },
   "outputs": [],
   "source": []
  },
  {
   "cell_type": "code",
   "execution_count": null,
   "metadata": {
    "collapsed": true
   },
   "outputs": [],
   "source": []
  }
 ],
 "metadata": {
  "anaconda-cloud": {},
  "kernelspec": {
   "display_name": "Python [default]",
   "language": "python",
   "name": "python3"
  },
  "language_info": {
   "codemirror_mode": {
    "name": "ipython",
    "version": 3
   },
   "file_extension": ".py",
   "mimetype": "text/x-python",
   "name": "python",
   "nbconvert_exporter": "python",
   "pygments_lexer": "ipython3",
   "version": "3.5.5"
  }
 },
 "nbformat": 4,
 "nbformat_minor": 1
}
